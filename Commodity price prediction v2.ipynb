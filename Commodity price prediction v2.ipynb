{
 "cells": [
  {
   "cell_type": "code",
   "execution_count": 1,
   "metadata": {},
   "outputs": [
    {
     "name": "stderr",
     "output_type": "stream",
     "text": [
      "Using TensorFlow backend.\n"
     ]
    }
   ],
   "source": [
    "# load required libraries\n",
    "from numpy import concatenate\n",
    "from pandas import read_csv\n",
    "from pandas import DataFrame\n",
    "from pandas import concat\n",
    "from matplotlib import pyplot\n",
    "from sklearn.preprocessing import MinMaxScaler\n",
    "from sklearn.metrics import mean_squared_error\n",
    "from keras.models import Sequential\n",
    "from keras.layers import Dense\n",
    "from keras.layers import LSTM\n",
    "import numpy as np\n",
    "\n",
    "num_features = 53 #Number of features in the dataset\n",
    "lag_steps = 1 #Number of lagged time features to be generated\n",
    "label_feature = 'POILBRE' #The column in dataset that model is being built to predict"
   ]
  },
  {
   "cell_type": "code",
   "execution_count": 2,
   "metadata": {},
   "outputs": [],
   "source": [
    "# This function arranges the dataset to be used for surpervised learning by shifting the input values of features by the number\n",
    "# time steps given in lag_steps\n",
    "\n",
    "def sequential_to_supervised(data, lag_steps = 1, n_out = 1, dropnan = True):\n",
    "    features = 1 if type(data) is list else data.shape[1] # Get the number of features in dataset\n",
    "    df = DataFrame(data)\n",
    "    cols = list()\n",
    "    feature_names = list()\n",
    "    \n",
    "    for i in range(lag_steps, 0, -1):\n",
    "        cols.append(df.shift(i)) # This will be the shifted dataset\n",
    "        feature_names += [(str(df.columns[j])) + '(t-%d)' % (i) for j in range(features)] # Names of the shifted features\n",
    "    \n",
    "    for i in range(0, n_out):\n",
    "        cols.append(df.shift(-i))\n",
    "        if i == 0:\n",
    "            feature_names += [(str(df.columns[j])) + '(t)'  for j in range(features)] # Names of the shifted features\n",
    "        else:\n",
    "            feature_names += [(str(df.columns[j])) + '(t+%d)' % (i) for j in range(features)] # Names of the shifted features\n",
    "    \n",
    "    agg = concat(cols, axis=1) \n",
    "    agg.columns = feature_names\n",
    "    \n",
    "    if dropnan:\n",
    "        agg.dropna(inplace=True)\n",
    "    return agg"
   ]
  },
  {
   "cell_type": "code",
   "execution_count": 3,
   "metadata": {},
   "outputs": [],
   "source": [
    "# Reading in the dataset which is in .csv format, has column headings and has an index column\n",
    "dataset = read_csv(\"Dataset.csv\", header = 0, index_col = 0, squeeze = True, usecols = [i for i in range(0, num_features+1))]\n",
    "supervised_dataset = sequential_to_supervised(dataset, lag_steps)\n",
    "\n",
    "# Move label column to the end of dataset\n",
    "cols_at_end = [label_feature + '(t)']\n",
    "supervised_dataset = supervised_dataset[[c for c in supervised_dataset if c not in cols_at_end] + [c for c in cols_at_end if c in supervised_dataset]]\n",
    "\n",
    "#print(supervised_dataset.shape)  # Used for debugging"
   ]
  },
  {
   "cell_type": "code",
   "execution_count": 4,
   "metadata": {},
   "outputs": [],
   "source": [
    "# Dropping the current timestep columns of features other than the one being predicted, which will be the label or y \n",
    "supervised_dataset.drop(supervised_dataset.columns[(num_features*lag_steps) : (num_features*lag_steps + num_features -1)], axis=1, inplace=True)\n",
    "#print(supervised_dataset.shape) # Used for debugging\n",
    "scaler = MinMaxScaler(feature_range=(0, 1))\n",
    "supervised_dataset_scaled = scaler.fit_transform(supervised_dataset) # Scaling all values"
   ]
  },
  {
   "cell_type": "code",
   "execution_count": 5,
   "metadata": {},
   "outputs": [],
   "source": [
    "split = int(supervised_dataset_scaled.shape[0]*0.8) # Splitting for traning and testing\n",
    "train = supervised_dataset_scaled[:split, :]\n",
    "test = supervised_dataset_scaled[split:, :]\n",
    "\n",
    "train_X, train_y = train[:, :-1], train[:, -1] # The label column is separated out\n",
    "test_X, test_y = test[:, :-1], test[:, -1]\n",
    "#print(train_X.shape) # Used for debugging\n",
    "#print(test_X.shape) # Used for debugging\n",
    "train_X = train_X.reshape((train_X.shape[0], 1, train_X.shape[1])) # Reshaping done for LSTM as it need 3D input\n",
    "test_X = test_X.reshape((test_X.shape[0], 1, test_X.shape[1]))\n",
    "#print(train_X.shape) # Used for debugging\n",
    "#print(test_X.shape) # Used for debugging"
   ]
  },
  {
   "cell_type": "code",
   "execution_count": 6,
   "metadata": {},
   "outputs": [
    {
     "name": "stdout",
     "output_type": "stream",
     "text": [
      "Train on 234 samples, validate on 59 samples\n",
      "Epoch 1/70\n",
      " - 2s - loss: 0.4108 - val_loss: 0.5913\n",
      "Epoch 2/70\n",
      " - 0s - loss: 0.3171 - val_loss: 0.4388\n",
      "Epoch 3/70\n",
      " - 0s - loss: 0.2201 - val_loss: 0.2878\n",
      "Epoch 4/70\n",
      " - 0s - loss: 0.1449 - val_loss: 0.1728\n",
      "Epoch 5/70\n",
      " - 0s - loss: 0.0984 - val_loss: 0.1510\n",
      "Epoch 6/70\n",
      " - 0s - loss: 0.0891 - val_loss: 0.1495\n",
      "Epoch 7/70\n",
      " - 0s - loss: 0.1246 - val_loss: 0.1745\n",
      "Epoch 8/70\n",
      " - 0s - loss: 0.1457 - val_loss: 0.1758\n",
      "Epoch 9/70\n",
      " - 0s - loss: 0.1405 - val_loss: 0.1542\n",
      "Epoch 10/70\n",
      " - 0s - loss: 0.1188 - val_loss: 0.1460\n",
      "Epoch 11/70\n",
      " - 0s - loss: 0.0968 - val_loss: 0.1467\n",
      "Epoch 12/70\n",
      " - 0s - loss: 0.0863 - val_loss: 0.1483\n",
      "Epoch 13/70\n",
      " - 0s - loss: 0.0853 - val_loss: 0.1490\n",
      "Epoch 14/70\n",
      " - 0s - loss: 0.0841 - val_loss: 0.1468\n",
      "Epoch 15/70\n",
      " - 0s - loss: 0.0790 - val_loss: 0.1425\n",
      "Epoch 16/70\n",
      " - 0s - loss: 0.0722 - val_loss: 0.1375\n",
      "Epoch 17/70\n",
      " - 0s - loss: 0.0699 - val_loss: 0.1337\n",
      "Epoch 18/70\n",
      " - 0s - loss: 0.0714 - val_loss: 0.1305\n",
      "Epoch 19/70\n",
      " - 0s - loss: 0.0726 - val_loss: 0.1280\n",
      "Epoch 20/70\n",
      " - 0s - loss: 0.0702 - val_loss: 0.1262\n",
      "Epoch 21/70\n",
      " - 0s - loss: 0.0653 - val_loss: 0.1250\n",
      "Epoch 22/70\n",
      " - 0s - loss: 0.0612 - val_loss: 0.1243\n",
      "Epoch 23/70\n",
      " - 0s - loss: 0.0595 - val_loss: 0.1240\n",
      "Epoch 24/70\n",
      " - 0s - loss: 0.0595 - val_loss: 0.1223\n",
      "Epoch 25/70\n",
      " - 0s - loss: 0.0579 - val_loss: 0.1192\n",
      "Epoch 26/70\n",
      " - 0s - loss: 0.0561 - val_loss: 0.1157\n",
      "Epoch 27/70\n",
      " - 0s - loss: 0.0550 - val_loss: 0.1129\n",
      "Epoch 28/70\n",
      " - 0s - loss: 0.0542 - val_loss: 0.1110\n",
      "Epoch 29/70\n",
      " - 0s - loss: 0.0532 - val_loss: 0.1099\n",
      "Epoch 30/70\n",
      " - 0s - loss: 0.0517 - val_loss: 0.1097\n",
      "Epoch 31/70\n",
      " - 0s - loss: 0.0505 - val_loss: 0.1096\n",
      "Epoch 32/70\n",
      " - 0s - loss: 0.0497 - val_loss: 0.1090\n",
      "Epoch 33/70\n",
      " - 0s - loss: 0.0489 - val_loss: 0.1078\n",
      "Epoch 34/70\n",
      " - 0s - loss: 0.0478 - val_loss: 0.1062\n",
      "Epoch 35/70\n",
      " - 0s - loss: 0.0467 - val_loss: 0.1043\n",
      "Epoch 36/70\n",
      " - 0s - loss: 0.0459 - val_loss: 0.1027\n",
      "Epoch 37/70\n",
      " - 0s - loss: 0.0452 - val_loss: 0.1019\n",
      "Epoch 38/70\n",
      " - 0s - loss: 0.0444 - val_loss: 0.1017\n",
      "Epoch 39/70\n",
      " - 0s - loss: 0.0438 - val_loss: 0.1013\n",
      "Epoch 40/70\n",
      " - 0s - loss: 0.0433 - val_loss: 0.1002\n",
      "Epoch 41/70\n",
      " - 0s - loss: 0.0426 - val_loss: 0.0990\n",
      "Epoch 42/70\n",
      " - 0s - loss: 0.0420 - val_loss: 0.0981\n",
      "Epoch 43/70\n",
      " - 0s - loss: 0.0413 - val_loss: 0.0976\n",
      "Epoch 44/70\n",
      " - 0s - loss: 0.0407 - val_loss: 0.0971\n",
      "Epoch 45/70\n",
      " - 0s - loss: 0.0401 - val_loss: 0.0962\n",
      "Epoch 46/70\n",
      " - 0s - loss: 0.0395 - val_loss: 0.0953\n",
      "Epoch 47/70\n",
      " - 0s - loss: 0.0390 - val_loss: 0.0946\n",
      "Epoch 48/70\n",
      " - 0s - loss: 0.0385 - val_loss: 0.0937\n",
      "Epoch 49/70\n",
      " - 0s - loss: 0.0380 - val_loss: 0.0928\n",
      "Epoch 50/70\n",
      " - 0s - loss: 0.0375 - val_loss: 0.0921\n",
      "Epoch 51/70\n",
      " - 0s - loss: 0.0371 - val_loss: 0.0910\n",
      "Epoch 52/70\n",
      " - 0s - loss: 0.0366 - val_loss: 0.0900\n",
      "Epoch 53/70\n",
      " - 0s - loss: 0.0362 - val_loss: 0.0893\n",
      "Epoch 54/70\n",
      " - 0s - loss: 0.0357 - val_loss: 0.0883\n",
      "Epoch 55/70\n",
      " - 0s - loss: 0.0353 - val_loss: 0.0874\n",
      "Epoch 56/70\n",
      " - 0s - loss: 0.0349 - val_loss: 0.0866\n",
      "Epoch 57/70\n",
      " - 0s - loss: 0.0345 - val_loss: 0.0859\n",
      "Epoch 58/70\n",
      " - 0s - loss: 0.0341 - val_loss: 0.0853\n",
      "Epoch 59/70\n",
      " - 0s - loss: 0.0337 - val_loss: 0.0848\n",
      "Epoch 60/70\n",
      " - 0s - loss: 0.0333 - val_loss: 0.0844\n",
      "Epoch 61/70\n",
      " - 0s - loss: 0.0330 - val_loss: 0.0839\n",
      "Epoch 62/70\n",
      " - 0s - loss: 0.0326 - val_loss: 0.0836\n",
      "Epoch 63/70\n",
      " - 0s - loss: 0.0323 - val_loss: 0.0829\n",
      "Epoch 64/70\n",
      " - 0s - loss: 0.0322 - val_loss: 0.0825\n",
      "Epoch 65/70\n",
      " - 0s - loss: 0.0318 - val_loss: 0.0824\n",
      "Epoch 66/70\n",
      " - 0s - loss: 0.0312 - val_loss: 0.0816\n",
      "Epoch 67/70\n",
      " - 0s - loss: 0.0315 - val_loss: 0.0816\n",
      "Epoch 68/70\n",
      " - 0s - loss: 0.0311 - val_loss: 0.0821\n",
      "Epoch 69/70\n",
      " - 0s - loss: 0.0305 - val_loss: 0.0810\n",
      "Epoch 70/70\n",
      " - 0s - loss: 0.0307 - val_loss: 0.0809\n"
     ]
    },
    {
     "data": {
      "image/png": "[encoded data removed]",
      "text/plain": [
       "<matplotlib.figure.Figure at 0x21ac518>"
      ]
     },
     "metadata": {},
     "output_type": "display_data"
    }
   ],
   "source": [
    "# Defining the LSTM model to be fit\n",
    "model = Sequential()\n",
    "model.add(LSTM(85, input_shape=(train_X.shape[1], train_X.shape[2])))\n",
    "model.add(Dense(1))\n",
    "model.compile(loss='mae', optimizer='adam')\n",
    "\n",
    "# Fitting the model\n",
    "history = model.fit(train_X, train_y, epochs=70, batch_size=175, validation_data=(test_X, test_y), verbose=2, shuffle=False)\n",
    "# Plotting the training progression\n",
    "pyplot.plot(history.history['loss'], label='train')\n",
    "pyplot.plot(history.history['val_loss'], label='test')\n",
    "pyplot.legend()\n",
    "pyplot.show()"
   ]
  },
  {
   "cell_type": "code",
   "execution_count": 7,
   "metadata": {},
   "outputs": [],
   "source": [
    "# Using the trained model to predict the label values in test dataset\n",
    "yhat = model.predict(test_X)\n",
    "\n",
    "#print(yhat.shape) # Used for debugging\n",
    "#print(test_X.shape) # Used for debugging\n",
    "\n",
    "# Reshaping back into 2D for inversing the scaling\n",
    "test_X = test_X.reshape((test_X.shape[0], test_X.shape[2])) \n",
    "#print(test_X.shape) # Used for debugging"
   ]
  },
  {
   "cell_type": "code",
   "execution_count": 8,
   "metadata": {},
   "outputs": [
    {
     "name": "stdout",
     "output_type": "stream",
     "text": [
      "Test RMSE: 11.406\n"
     ]
    }
   ],
   "source": [
    "# Concatenating the predict label column with Test data input features, needed for inversing the scaling\n",
    "inv_yhat = concatenate((test_X[:, 0:], yhat), axis=1) \n",
    "inv_yhat = scaler.inverse_transform(inv_yhat) # Rescaling back\n",
    "#print(inv_yhat.shape) # Used for debugging\n",
    "inv_yhat = inv_yhat[:, num_features*lag_steps] # Extracting the rescaled predicted label column\n",
    "\n",
    "test_y = test_y.reshape((len(test_y), 1))\n",
    "inv_y = concatenate((test_X[:, 0:], test_y), axis=1) # Re joing the test dataset for inversing the scaling\n",
    "inv_y = scaler.inverse_transform(inv_y) # Rescaling the actual label column values\n",
    "inv_y = inv_y[:, num_features*lag_steps] # Extracting the rescaled actual label column\n",
    "\n",
    "rmse = np.sqrt(mean_squared_error(inv_y, inv_yhat)) # Calculating RMSE\n",
    "print('Test RMSE: %.3f' % rmse)"
   ]
  },
  {
   "cell_type": "code",
   "execution_count": 9,
   "metadata": {},
   "outputs": [
    {
     "data": {
      "image/png": "[encoded data removed]",
      "text/plain": [
       "<matplotlib.figure.Figure at 0x1e3ba2b0>"
      ]
     },
     "metadata": {},
     "output_type": "display_data"
    }
   ],
   "source": [
    "pyplot.plot(inv_y, label = 'Actual')\n",
    "pyplot.plot(inv_yhat, label = 'Predicted')\n",
    "pyplot.legend()\n",
    "pyplot.show()"
   ]
  },
  {
   "cell_type": "code",
   "execution_count": null,
   "metadata": {},
   "outputs": [],
   "source": []
  }
 ],
 "metadata": {
  "kernelspec": {
   "display_name": "Python 3",
   "language": "python",
   "name": "python3"
  },
  "language_info": {
   "codemirror_mode": {
    "name": "ipython",
    "version": 3
   },
   "file_extension": ".py",
   "mimetype": "text/x-python",
   "name": "python",
   "nbconvert_exporter": "python",
   "pygments_lexer": "ipython3",
   "version": "3.6.4"
  }
 },
 "nbformat": 4,
 "nbformat_minor": 2
}
