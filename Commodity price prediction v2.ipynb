{
 "cells": [
  {
   "cell_type": "code",
   "execution_count": 34,
   "metadata": {},
   "outputs": [],
   "source": [
    "# Article:  https://medium.com/@vinayarun/from-scratch-an-lstm-model-to-predict-commodity-prices-179e12445c5a\n",
    "# load required libraries\n",
    "from numpy import concatenate\n",
    "from pandas import read_csv\n",
    "from pandas import DataFrame\n",
    "from pandas import concat\n",
    "from matplotlib import pyplot\n",
    "from sklearn.preprocessing import MinMaxScaler\n",
    "from sklearn.metrics import mean_squared_error\n",
    "from keras.models import Sequential\n",
    "from keras.layers import Dense\n",
    "from keras.layers import LSTM\n",
    "import numpy as np\n",
    "\n",
    "num_features = 53 #Number of features in the dataset\n",
    "lag_steps = 1 #Number of lagged time features to be generated\n",
    "label_feature = 'POILBRE' #The column in dataset that model is being built to predict"
   ]
  },
  {
   "cell_type": "code",
   "execution_count": 35,
   "metadata": {},
   "outputs": [],
   "source": [
    "# This function arranges the dataset to be used for surpervised learning by shifting the input values of features by the number\n",
    "# time steps given in lag_steps\n",
    "\n",
    "def sequential_to_supervised(data, lag_steps = 1, n_out = 1, dropnan = True):\n",
    "    features = 1 if type(data) is list else data.shape[1] # Get the number of features in dataset\n",
    "    df = DataFrame(data)\n",
    "    cols = list()\n",
    "    feature_names = list()\n",
    "    \n",
    "    for i in range(lag_steps, 0, -1):\n",
    "        cols.append(df.shift(i)) # This will be the shifted dataset\n",
    "        feature_names += [(str(df.columns[j])) + '(t-%d)' % (i) for j in range(features)] # Names of the shifted features\n",
    "    \n",
    "    for i in range(0, n_out):\n",
    "        cols.append(df.shift(-i))\n",
    "        if i == 0:\n",
    "            feature_names += [(str(df.columns[j])) + '(t)'  for j in range(features)] # Names of the shifted features\n",
    "        else:\n",
    "            feature_names += [(str(df.columns[j])) + '(t+%d)' % (i) for j in range(features)] # Names of the shifted features\n",
    "    \n",
    "    agg = concat(cols, axis=1) \n",
    "    agg.columns = feature_names\n",
    "    \n",
    "    if dropnan:\n",
    "        agg.dropna(inplace=True)\n",
    "    return agg"
   ]
  },
  {
   "cell_type": "code",
   "execution_count": 36,
   "metadata": {},
   "outputs": [],
   "source": [
    "# Reading in the dataset which is in .csv format, has column headings and has an index column\n",
    "\n",
    "#dataset = read_csv(\"Dataset.csv\", header = 0, index_col = 0, squeeze = True, usecols = (i for i in range(0, num_features+1)))\n",
    "#supervised_dataset = sequential_to_supervised(dataset, lag_steps)\n",
    "\n",
    "\n",
    "#Use this to read or try the instruction above.  I could not get the instruction above to work.\n",
    "dataset = read_csv('Dataset.csv', header = 0, index_col = 0, squeeze = True, usecols = [i for i in range(0, num_features+1)])\n",
    "supervised_dataset = sequential_to_supervised(dataset, lag_steps)\n",
    "\n",
    "\n",
    "\n",
    "\n",
    "\n",
    "\n",
    "\n",
    "# Move label column to the end of dataset\n",
    "cols_at_end = [label_feature + '(t)']\n",
    "supervised_dataset = supervised_dataset[[c for c in supervised_dataset if c not in cols_at_end] + [c for c in cols_at_end if c in supervised_dataset]]\n",
    "\n",
    "#print(supervised_dataset.shape)  # Used for debugging"
   ]
  },
  {
   "cell_type": "code",
   "execution_count": 37,
   "metadata": {},
   "outputs": [],
   "source": [
    "# Dropping the current timestep columns of features other than the one being predicted, which will be the label or y \n",
    "supervised_dataset.drop(supervised_dataset.columns[(num_features*lag_steps) : (num_features*lag_steps + num_features -1)], axis=1, inplace=True)\n",
    "#print(supervised_dataset.shape) # Used for debugging\n",
    "scaler = MinMaxScaler(feature_range=(0, 1))\n",
    "supervised_dataset_scaled = scaler.fit_transform(supervised_dataset) # Scaling all values"
   ]
  },
  {
   "cell_type": "code",
   "execution_count": 38,
   "metadata": {},
   "outputs": [],
   "source": [
    "split = int(supervised_dataset_scaled.shape[0]*0.8) # Splitting for traning and testing\n",
    "train = supervised_dataset_scaled[:split, :]\n",
    "test = supervised_dataset_scaled[split:, :]\n",
    "\n",
    "train_X, train_y = train[:, :-1], train[:, -1] # The label column is separated out\n",
    "test_X, test_y = test[:, :-1], test[:, -1]\n",
    "#print(train_X.shape) # Used for debugging\n",
    "#print(test_X.shape) # Used for debugging\n",
    "train_X = train_X.reshape((train_X.shape[0], 1, train_X.shape[1])) # Reshaping done for LSTM as it need 3D input\n",
    "test_X = test_X.reshape((test_X.shape[0], 1, test_X.shape[1]))\n",
    "#print(train_X.shape) # Used for debugging\n",
    "#print(test_X.shape) # Used for debugging"
   ]
  },
  {
   "cell_type": "code",
   "execution_count": 39,
   "metadata": {},
   "outputs": [
    {
     "name": "stdout",
     "output_type": "stream",
     "text": [
      "Train on 234 samples, validate on 59 samples\n",
      "Epoch 1/70\n",
      " - 1s - loss: 0.2538 - val_loss: 0.3857\n",
      "Epoch 2/70\n",
      " - 0s - loss: 0.1764 - val_loss: 0.2519\n",
      "Epoch 3/70\n",
      " - 0s - loss: 0.1328 - val_loss: 0.1545\n",
      "Epoch 4/70\n",
      " - 0s - loss: 0.1071 - val_loss: 0.1349\n",
      "Epoch 5/70\n",
      " - 0s - loss: 0.1034 - val_loss: 0.1314\n",
      "Epoch 6/70\n",
      " - 0s - loss: 0.1309 - val_loss: 0.1456\n",
      "Epoch 7/70\n",
      " - 0s - loss: 0.1437 - val_loss: 0.1404\n",
      "Epoch 8/70\n",
      " - 0s - loss: 0.1318 - val_loss: 0.1252\n",
      "Epoch 9/70\n",
      " - 0s - loss: 0.1094 - val_loss: 0.1222\n",
      "Epoch 10/70\n",
      " - 0s - loss: 0.0920 - val_loss: 0.1226\n",
      "Epoch 11/70\n",
      " - 0s - loss: 0.0849 - val_loss: 0.1222\n",
      "Epoch 12/70\n",
      " - 0s - loss: 0.0789 - val_loss: 0.1188\n",
      "Epoch 13/70\n",
      " - 0s - loss: 0.0713 - val_loss: 0.1129\n",
      "Epoch 14/70\n",
      " - 0s - loss: 0.0642 - val_loss: 0.1076\n",
      "Epoch 15/70\n",
      " - 0s - loss: 0.0634 - val_loss: 0.1039\n",
      "Epoch 16/70\n",
      " - 0s - loss: 0.0631 - val_loss: 0.1017\n",
      "Epoch 17/70\n",
      " - 0s - loss: 0.0607 - val_loss: 0.0984\n",
      "Epoch 18/70\n",
      " - 0s - loss: 0.0561 - val_loss: 0.0957\n",
      "Epoch 19/70\n",
      " - 0s - loss: 0.0519 - val_loss: 0.0942\n",
      "Epoch 20/70\n",
      " - 0s - loss: 0.0492 - val_loss: 0.0940\n",
      "Epoch 21/70\n",
      " - 0s - loss: 0.0481 - val_loss: 0.0930\n",
      "Epoch 22/70\n",
      " - 0s - loss: 0.0468 - val_loss: 0.0902\n",
      "Epoch 23/70\n",
      " - 0s - loss: 0.0446 - val_loss: 0.0870\n",
      "Epoch 24/70\n",
      " - 0s - loss: 0.0428 - val_loss: 0.0849\n",
      "Epoch 25/70\n",
      " - 0s - loss: 0.0413 - val_loss: 0.0834\n",
      "Epoch 26/70\n",
      " - 0s - loss: 0.0401 - val_loss: 0.0827\n",
      "Epoch 27/70\n",
      " - 0s - loss: 0.0386 - val_loss: 0.0830\n",
      "Epoch 28/70\n",
      " - 0s - loss: 0.0379 - val_loss: 0.0835\n",
      "Epoch 29/70\n",
      " - 0s - loss: 0.0377 - val_loss: 0.0828\n",
      "Epoch 30/70\n",
      " - 0s - loss: 0.0364 - val_loss: 0.0819\n",
      "Epoch 31/70\n",
      " - 0s - loss: 0.0354 - val_loss: 0.0817\n",
      "Epoch 32/70\n",
      " - 0s - loss: 0.0346 - val_loss: 0.0822\n",
      "Epoch 33/70\n",
      " - 0s - loss: 0.0342 - val_loss: 0.0823\n",
      "Epoch 34/70\n",
      " - 0s - loss: 0.0336 - val_loss: 0.0815\n",
      "Epoch 35/70\n",
      " - 0s - loss: 0.0332 - val_loss: 0.0809\n",
      "Epoch 36/70\n",
      " - 0s - loss: 0.0329 - val_loss: 0.0807\n",
      "Epoch 37/70\n",
      " - 0s - loss: 0.0324 - val_loss: 0.0807\n",
      "Epoch 38/70\n",
      " - 0s - loss: 0.0319 - val_loss: 0.0800\n",
      "Epoch 39/70\n",
      " - 0s - loss: 0.0313 - val_loss: 0.0792\n",
      "Epoch 40/70\n",
      " - 0s - loss: 0.0310 - val_loss: 0.0788\n",
      "Epoch 41/70\n",
      " - 0s - loss: 0.0305 - val_loss: 0.0787\n",
      "Epoch 42/70\n",
      " - 0s - loss: 0.0302 - val_loss: 0.0783\n",
      "Epoch 43/70\n",
      " - 0s - loss: 0.0298 - val_loss: 0.0777\n",
      "Epoch 44/70\n",
      " - 0s - loss: 0.0295 - val_loss: 0.0775\n",
      "Epoch 45/70\n",
      " - 0s - loss: 0.0292 - val_loss: 0.0773\n",
      "Epoch 46/70\n",
      " - 0s - loss: 0.0289 - val_loss: 0.0772\n",
      "Epoch 47/70\n",
      " - 0s - loss: 0.0286 - val_loss: 0.0769\n",
      "Epoch 48/70\n",
      " - 0s - loss: 0.0283 - val_loss: 0.0767\n",
      "Epoch 49/70\n",
      " - 0s - loss: 0.0281 - val_loss: 0.0765\n",
      "Epoch 50/70\n",
      " - 0s - loss: 0.0279 - val_loss: 0.0763\n",
      "Epoch 51/70\n",
      " - 0s - loss: 0.0276 - val_loss: 0.0760\n",
      "Epoch 52/70\n",
      " - 0s - loss: 0.0275 - val_loss: 0.0757\n",
      "Epoch 53/70\n",
      " - 0s - loss: 0.0273 - val_loss: 0.0753\n",
      "Epoch 54/70\n",
      " - 0s - loss: 0.0270 - val_loss: 0.0751\n",
      "Epoch 55/70\n",
      " - 0s - loss: 0.0268 - val_loss: 0.0748\n",
      "Epoch 56/70\n",
      " - 0s - loss: 0.0267 - val_loss: 0.0746\n",
      "Epoch 57/70\n",
      " - 0s - loss: 0.0265 - val_loss: 0.0745\n",
      "Epoch 58/70\n",
      " - 0s - loss: 0.0263 - val_loss: 0.0744\n",
      "Epoch 59/70\n",
      " - 0s - loss: 0.0261 - val_loss: 0.0744\n",
      "Epoch 60/70\n",
      " - 0s - loss: 0.0259 - val_loss: 0.0745\n",
      "Epoch 61/70\n",
      " - 0s - loss: 0.0258 - val_loss: 0.0747\n",
      "Epoch 62/70\n",
      " - 0s - loss: 0.0257 - val_loss: 0.0748\n",
      "Epoch 63/70\n",
      " - 0s - loss: 0.0255 - val_loss: 0.0748\n",
      "Epoch 64/70\n",
      " - 0s - loss: 0.0254 - val_loss: 0.0749\n",
      "Epoch 65/70\n",
      " - 0s - loss: 0.0251 - val_loss: 0.0751\n",
      "Epoch 66/70\n",
      " - 0s - loss: 0.0250 - val_loss: 0.0752\n",
      "Epoch 67/70\n",
      " - 0s - loss: 0.0249 - val_loss: 0.0753\n",
      "Epoch 68/70\n",
      " - 0s - loss: 0.0247 - val_loss: 0.0754\n",
      "Epoch 69/70\n",
      " - 0s - loss: 0.0246 - val_loss: 0.0756\n",
      "Epoch 70/70\n",
      " - 0s - loss: 0.0245 - val_loss: 0.0758\n"
     ]
    },
    {
     "data": {
      "image/png": "[encoded data removed]",
      "text/plain": [
       "<Figure size 432x288 with 1 Axes>"
      ]
     },
     "metadata": {
      "needs_background": "light"
     },
     "output_type": "display_data"
    }
   ],
   "source": [
    "# Defining the LSTM model to be fit\n",
    "model = Sequential()\n",
    "model.add(LSTM(85, input_shape=(train_X.shape[1], train_X.shape[2])))\n",
    "model.add(Dense(1))\n",
    "model.compile(loss='mae', optimizer='adam')\n",
    "\n",
    "# Fitting the model\n",
    "history = model.fit(train_X, train_y, epochs=70, batch_size=175, validation_data=(test_X, test_y), verbose=2, shuffle=False)\n",
    "# Plotting the training progression\n",
    "pyplot.plot(history.history['loss'], label='train')\n",
    "pyplot.plot(history.history['val_loss'], label='test')\n",
    "pyplot.legend()\n",
    "pyplot.show()"
   ]
  },
  {
   "cell_type": "code",
   "execution_count": 40,
   "metadata": {},
   "outputs": [],
   "source": [
    "# Using the trained model to predict the label values in test dataset\n",
    "yhat = model.predict(test_X)\n",
    "\n",
    "#print(yhat.shape) # Used for debugging\n",
    "#print(test_X.shape) # Used for debugging\n",
    "\n",
    "# Reshaping back into 2D for inversing the scaling\n",
    "test_X = test_X.reshape((test_X.shape[0], test_X.shape[2])) \n",
    "#print(test_X.shape) # Used for debugging"
   ]
  },
  {
   "cell_type": "code",
   "execution_count": 41,
   "metadata": {},
   "outputs": [
    {
     "name": "stdout",
     "output_type": "stream",
     "text": [
      "Test RMSE: 10.794\n"
     ]
    }
   ],
   "source": [
    "# Concatenating the predict label column with Test data input features, needed for inversing the scaling\n",
    "inv_yhat = concatenate((test_X[:, 0:], yhat), axis=1) \n",
    "inv_yhat = scaler.inverse_transform(inv_yhat) # Rescaling back\n",
    "#print(inv_yhat.shape) # Used for debugging\n",
    "inv_yhat = inv_yhat[:, num_features*lag_steps] # Extracting the rescaled predicted label column\n",
    "\n",
    "test_y = test_y.reshape((len(test_y), 1))\n",
    "inv_y = concatenate((test_X[:, 0:], test_y), axis=1) # Re joing the test dataset for inversing the scaling\n",
    "inv_y = scaler.inverse_transform(inv_y) # Rescaling the actual label column values\n",
    "inv_y = inv_y[:, num_features*lag_steps] # Extracting the rescaled actual label column\n",
    "\n",
    "rmse = np.sqrt(mean_squared_error(inv_y, inv_yhat)) # Calculating RMSE\n",
    "print('Test RMSE: %.3f' % rmse)"
   ]
  },
  {
   "cell_type": "code",
   "execution_count": 42,
   "metadata": {},
   "outputs": [
    {
     "data": {
      "image/png": "[encoded data removed]",
      "text/plain": [
       "<Figure size 432x288 with 1 Axes>"
      ]
     },
     "metadata": {
      "needs_background": "light"
     },
     "output_type": "display_data"
    }
   ],
   "source": [
    "pyplot.plot(inv_y, label = 'Actual')\n",
    "pyplot.plot(inv_yhat, label = 'Predicted')\n",
    "pyplot.legend()\n",
    "pyplot.show()"
   ]
  },
  {
   "cell_type": "code",
   "execution_count": 43,
   "metadata": {},
   "outputs": [
    {
     "name": "stdout",
     "output_type": "stream",
     "text": [
      "[105.54865965 107.73483161 109.01727546 107.2167058  106.17718474\n",
      " 107.39960245 110.00262136 111.10870005 107.44206826 101.93875496\n",
      "  99.17930564  98.76439669  98.09951566  99.52896622  98.78164634\n",
      "  97.18322016  95.19743861  96.60208725  95.89488095  97.18732546\n",
      "  93.56970577  93.4399709   93.13765811  94.00563682  92.92627586\n",
      "  90.80594403  88.2942403   82.20037779  79.86909274  70.30084111\n",
      "  62.67893427  65.15582062  63.61683622  63.57472546  65.47922948\n",
      "  65.2350714   63.56060471  60.03326463  58.84436983  58.86639421\n",
      "  54.85684784  52.14342965  47.00928636  50.20489973  49.64414168\n",
      "  50.39633245  51.93437744  54.08901625  53.52025472  55.20334253\n",
      "  55.79917686  58.19647587  57.28154511  61.93881901  64.84085167\n",
      "  65.79763061  63.83577814  64.16638792  64.61389147]\n"
     ]
    }
   ],
   "source": [
    "print (inv_yhat) "
   ]
  },
  {
   "cell_type": "code",
   "execution_count": 44,
   "metadata": {},
   "outputs": [
    {
     "name": "stdout",
     "output_type": "stream",
     "text": [
      "[113.34 113.38 111.97 109.71 109.64 112.93 116.46 109.24 102.88 103.03\n",
      " 103.11 107.72 110.96 111.62 109.48 108.08 110.63 107.57 108.81 107.41\n",
      " 107.88 109.68 111.87 106.98 101.92  97.34  87.27  78.44  62.16  48.42\n",
      "  57.93  55.79  59.39  64.56  62.35  55.87  46.99  47.23  48.12  44.42\n",
      "  37.72  30.8   33.2   39.07  42.25  47.13  48.48  45.07  46.14  46.19\n",
      "  49.73  46.44  54.07  54.89  55.49  51.97  53.06  50.87  46.89]\n"
     ]
    }
   ],
   "source": [
    "print (inv_y)"
   ]
  },
  {
   "cell_type": "code",
   "execution_count": null,
   "metadata": {},
   "outputs": [],
   "source": []
  }
 ],
 "metadata": {
  "kernelspec": {
   "display_name": "Python 3",
   "language": "python",
   "name": "python3"
  },
  "language_info": {
   "codemirror_mode": {
    "name": "ipython",
    "version": 3
   },
   "file_extension": ".py",
   "mimetype": "text/x-python",
   "name": "python",
   "nbconvert_exporter": "python",
   "pygments_lexer": "ipython3",
   "version": "3.6.8"
  }
 },
 "nbformat": 4,
 "nbformat_minor": 2
}
